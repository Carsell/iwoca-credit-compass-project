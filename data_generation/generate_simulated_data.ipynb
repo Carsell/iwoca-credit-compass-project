{
 "cells": [
  {
   "cell_type": "code",
   "execution_count": 1,
   "id": "a0ea1c4f-e573-4863-8132-597037c094ba",
   "metadata": {},
   "outputs": [],
   "source": [
    "import pandas as pd\n",
    "import numpy as np\n",
    "import random\n",
    "from faker import Faker\n",
    "from datetime import datetime\n",
    "from pathlib import Path"
   ]
  },
  {
   "cell_type": "code",
   "execution_count": 3,
   "id": "3a8b727d-171e-4883-b364-69cc5133175e",
   "metadata": {},
   "outputs": [],
   "source": [
    "# Setup\n",
    "fake = Faker()\n",
    "np.random.seed(42)\n",
    "random.seed(42)"
   ]
  },
  {
   "cell_type": "code",
   "execution_count": 5,
   "id": "4ea11ab9-3dc3-41b9-bcb9-2497860ea843",
   "metadata": {},
   "outputs": [],
   "source": [
    "# Constants\n",
    "NUM_BUSINESSES = 500\n",
    "NUM_EVENTS = 50000\n",
    "NUM_MONTHS = 12\n",
    "START_DATE = datetime(2024, 8, 1)\n",
    "\n",
    "sectors = ['Retail', 'Manufacturing', 'Services', 'Technology', 'Healthcare']\n",
    "regions = ['London', 'Midlands', 'Scotland', 'North West', 'South East']\n",
    "risk_categories = ['Low', 'Medium', 'High']\n",
    "event_types = ['login', 'viewed_report', 'downloaded_tool', 'updated_profile', 'requested_funding']\n",
    "features = ['credit_score_report', 'funding_recommendation', 'cash_flow_forecast', 'growth_dashboard']"
   ]
  },
  {
   "cell_type": "code",
   "execution_count": 7,
   "id": "441ee2db-cd4d-4982-b340-daa6c054fddc",
   "metadata": {},
   "outputs": [],
   "source": [
    "# Create output folder\n",
    "output_dir = Path(\"generated_data\")\n",
    "output_dir.mkdir(exist_ok=True)"
   ]
  },
  {
   "cell_type": "code",
   "execution_count": 9,
   "id": "2d386f40-0b5b-40bc-a954-7bdbf9da8327",
   "metadata": {},
   "outputs": [],
   "source": [
    "# --- 1. SME Profiles ---\n",
    "sme_data = []\n",
    "for i in range(NUM_BUSINESSES):\n",
    "    sme_data.append({\n",
    "        'business_id': f\"SME_{i+1:04d}\",\n",
    "        'business_name': fake.company(),\n",
    "        'sector': random.choice(sectors),\n",
    "        'region': random.choice(regions),\n",
    "        'employees': np.random.randint(1, 200),\n",
    "        'annual_revenue (£)': round(np.random.uniform(100000, 5000000), 2),\n",
    "        'credit_score': np.random.randint(300, 850),\n",
    "        'created_at': fake.date_between(start_date='-3y', end_date='today'),\n",
    "        'default_risk_category': random.choices(risk_categories, weights=[0.6, 0.3, 0.1])[0],\n",
    "        'funding_needs': round(np.random.uniform(5000, 100000), 2),\n",
    "        'loan_history_score': round(np.random.beta(2, 5), 2)\n",
    "    })\n",
    "\n",
    "sme_df = pd.DataFrame(sme_data)\n",
    "sme_df.to_csv(output_dir / \"sme_credit_profiles.csv\", index=False)"
   ]
  },
  {
   "cell_type": "code",
   "execution_count": 11,
   "id": "03e576f0-0c81-4c2a-86cf-0fdb09674311",
   "metadata": {},
   "outputs": [],
   "source": [
    "# --- 2. Engagement Logs ---\n",
    "event_data = []\n",
    "for _ in range(NUM_EVENTS):\n",
    "    business = sme_df.sample(1).iloc[0]\n",
    "    event_data.append({\n",
    "        'event_id': fake.uuid4(),\n",
    "        'business_id': business['business_id'],\n",
    "        'event_type': random.choice(event_types),\n",
    "        'feature_name': random.choice(features),\n",
    "        'timestamp': fake.date_time_between(start_date='-12m', end_date='now'),\n",
    "        'session_duration_sec': np.random.randint(30, 1800),\n",
    "        'is_conversion_event': random.random() < 0.05\n",
    "    })\n",
    "\n",
    "event_df = pd.DataFrame(event_data)\n",
    "event_df.to_csv(output_dir / \"product_engagement_log.csv\", index=False)"
   ]
  },
  {
   "cell_type": "code",
   "execution_count": 13,
   "id": "e4334192-9d37-4055-8c75-29b742fa82f5",
   "metadata": {},
   "outputs": [
    {
     "name": "stdout",
     "output_type": "stream",
     "text": [
      "✅ Simulated data generated and saved to 'generated_data' folder.\n"
     ]
    }
   ],
   "source": [
    "# --- 3. Monthly Credit Scores ---\n",
    "score_data = []\n",
    "for _, row in sme_df.iterrows():\n",
    "    current_score = row['credit_score']\n",
    "    for m in range(NUM_MONTHS):\n",
    "        month = START_DATE + pd.DateOffset(months=m)\n",
    "        score_change = np.random.randint(-30, 31)\n",
    "        current_score = max(300, min(850, current_score + score_change))\n",
    "        score_data.append({\n",
    "            'business_id': row['business_id'],\n",
    "            'month': month.strftime('%Y-%m'),\n",
    "            'credit_score': current_score,\n",
    "            'funding_granted (£)': round(np.random.uniform(0, 30000), 2) if random.random() < 0.2 else 0.0,\n",
    "            'product_used': random.random() < 0.7\n",
    "        })\n",
    "\n",
    "score_df = pd.DataFrame(score_data)\n",
    "score_df.to_csv(output_dir / \"monthly_credit_scores.csv\", index=False)\n",
    "\n",
    "print(\"✅ Simulated data generated and saved to 'generated_data' folder.\")"
   ]
  },
  {
   "cell_type": "code",
   "execution_count": null,
   "id": "3b292c66-80c3-41fa-b79b-ca55e22f9b82",
   "metadata": {},
   "outputs": [],
   "source": []
  }
 ],
 "metadata": {
  "kernelspec": {
   "display_name": "Python 3 (ipykernel)",
   "language": "python",
   "name": "python3"
  },
  "language_info": {
   "codemirror_mode": {
    "name": "ipython",
    "version": 3
   },
   "file_extension": ".py",
   "mimetype": "text/x-python",
   "name": "python",
   "nbconvert_exporter": "python",
   "pygments_lexer": "ipython3",
   "version": "3.12.4"
  }
 },
 "nbformat": 4,
 "nbformat_minor": 5
}
